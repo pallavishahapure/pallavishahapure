{
  "nbformat": 4,
  "nbformat_minor": 0,
  "metadata": {
    "colab": {
      "name": "myfirstnotebook.ipynb",
      "provenance": [],
      "authorship_tag": "ABX9TyOu4blLiAy0pbiVSCk5CKw2",
      "include_colab_link": true
    },
    "kernelspec": {
      "name": "python3",
      "display_name": "Python 3"
    },
    "language_info": {
      "name": "python"
    }
  },
  "cells": [
    {
      "cell_type": "markdown",
      "metadata": {
        "id": "view-in-github",
        "colab_type": "text"
      },
      "source": [
        "<a href=\"https://colab.research.google.com/github/pallavishahapure/pallavishahapure/blob/main/myfirstnotebook.ipynb\" target=\"_parent\"><img src=\"https://colab.research.google.com/assets/colab-badge.svg\" alt=\"Open In Colab\"/></a>"
      ]
    },
    {
      "cell_type": "code",
      "source": [
        "print(\"hi\")"
      ],
      "metadata": {
        "colab": {
          "base_uri": "https://localhost:8080/"
        },
        "id": "LM7Q_GbyjBhf",
        "outputId": "513ad222-fd59-480f-8638-f0b9535553dc"
      },
      "execution_count": null,
      "outputs": [
        {
          "output_type": "stream",
          "name": "stdout",
          "text": [
            "hi\n"
          ]
        }
      ]
    },
    {
      "cell_type": "code",
      "execution_count": null,
      "metadata": {
        "colab": {
          "base_uri": "https://localhost:8080/"
        },
        "id": "e6izX77Fejje",
        "outputId": "9ea36a6a-db74-4447-9f49-bcbb40abfc93"
      },
      "outputs": [
        {
          "output_type": "stream",
          "name": "stdout",
          "text": [
            "hello\n"
          ]
        }
      ],
      "source": [
        "print (\"hello\")"
      ]
    },
    {
      "cell_type": "code",
      "source": [
        "print(\"hello hi\")"
      ],
      "metadata": {
        "colab": {
          "base_uri": "https://localhost:8080/"
        },
        "id": "Euv5EM0AjHp0",
        "outputId": "a0bb2e4c-bf19-4586-b9c8-b4ef90d313ff"
      },
      "execution_count": null,
      "outputs": [
        {
          "output_type": "stream",
          "name": "stdout",
          "text": [
            "hello hi\n"
          ]
        }
      ]
    },
    {
      "cell_type": "markdown",
      "source": [
        "> Dorothy followed her through many of the beautiful rooms in her castle.\n",
        ">\n",
        ">> The Witch bade her clean the pots and kettles and sweep the floor and keep the fire\n",
        "fed with wood.\n"
      ],
      "metadata": {
        "id": "OHfY7-XlqHdm"
      }
    },
    {
      "cell_type": "markdown",
      "source": [
        "this is **bold**."
      ],
      "metadata": {
        "id": "ZnNclWGRj8gO"
      }
    },
    {
      "cell_type": "markdown",
      "source": [
        "$\\sqrt{3x-1}+(1+x)^2$"
      ],
      "metadata": {
        "id": "XY2BFTvhhdsn"
      }
    }
  ]
}